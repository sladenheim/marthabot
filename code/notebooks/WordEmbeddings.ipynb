{
 "cells": [
  {
   "cell_type": "markdown",
   "id": "73cffab9-a00a-4d67-845f-2527f492cc99",
   "metadata": {},
   "source": [
    "# Word Embeddings"
   ]
  },
  {
   "cell_type": "markdown",
   "id": "bdb1707b-2775-4b32-841f-d036302f1033",
   "metadata": {},
   "source": [
    "Machine learning models expect numerical values as inputs. The idea behind word embeddings is to represent words as dense vectors in a high-dimensional space.\n",
    "\n",
    "Importantly, word embeddings are able to capture semantic relationships between words.\n",
    "\n",
    "There are other ways to represent words/text as numbers. For example, TF-IDF (term frequency-inverse document frequency). TF-IDF is based on the idea of a document as a bag of words and does not consider any relationships between words. TF-IDF leads to sparse representations of words/text. A sparse vector means the majority of values in the vector are zero. A dense vector is a full (not sparse) vector."
   ]
  },
  {
   "cell_type": "markdown",
   "id": "a5cc6dd2-ea6e-4c5e-afb8-f18af2f361ac",
   "metadata": {},
   "source": [
    "After tokenization, we can use the token ids to generate a word embedding. Word embeddings are created from these token ids via other neural networks. These neural networks were previously trained and learned the  mapping of the input id to its corresponding dense vector.\n",
    "\n",
    "Word embeddings can be static or contextual. A static embedding is when each word has a single embedbedding, e.g., Word2Vec. A contextual embedding (used by more complex language model embedding algorithms) allows the embedding for a word to change depending on its context in a sentence."
   ]
  },
  {
   "cell_type": "code",
   "execution_count": null,
   "id": "8f320fc8-afc5-4e47-bce1-9b598bde3cfc",
   "metadata": {},
   "outputs": [],
   "source": []
  }
 ],
 "metadata": {
  "kernelspec": {
   "display_name": "Python 3 (ipykernel)",
   "language": "python",
   "name": "python3"
  },
  "language_info": {
   "codemirror_mode": {
    "name": "ipython",
    "version": 3
   },
   "file_extension": ".py",
   "mimetype": "text/x-python",
   "name": "python",
   "nbconvert_exporter": "python",
   "pygments_lexer": "ipython3",
   "version": "3.12.6"
  }
 },
 "nbformat": 4,
 "nbformat_minor": 5
}
